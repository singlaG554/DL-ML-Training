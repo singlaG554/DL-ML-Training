{
  "nbformat": 4,
  "nbformat_minor": 0,
  "metadata": {
    "colab": {
      "provenance": []
    },
    "kernelspec": {
      "name": "python3",
      "display_name": "Python 3"
    },
    "language_info": {
      "name": "python"
    }
  },
  "cells": [
    {
      "cell_type": "code",
      "execution_count": null,
      "metadata": {
        "id": "5a1ocM5rxNQ1"
      },
      "outputs": [],
      "source": [
        "# QUES 1\n",
        "import random\n",
        "import string\n",
        "\n",
        "with open(\"random_1000_lines.txt\", \"w\") as f:\n",
        "    for _ in range(1000):\n",
        "        line = ''.join(random.choices(string.ascii_letters + string.digits, k=50))\n",
        "        f.write(line + \"\\n\")"
      ]
    },
    {
      "cell_type": "code",
      "source": [
        "# Ques 2\n",
        "def create_file_of_size(filename, size_mb):\n",
        "    import os\n",
        "    import random\n",
        "    import string\n",
        "\n",
        "    size = 0\n",
        "    with open(filename, \"w\") as f:\n",
        "        while size < size_mb * 1024 * 1024:\n",
        "            line = ''.join(random.choices(string.ascii_letters + string.digits, k=100)) + \"\\n\"\n",
        "            f.write(line)\n",
        "            size = f.tell()\n",
        "\n",
        "create_file_of_size(\"random_5MB.txt\", 5)\n"
      ],
      "metadata": {
        "id": "FGC7L9hO64Kg"
      },
      "execution_count": null,
      "outputs": []
    },
    {
      "cell_type": "code",
      "source": [
        "# Ques 3\n",
        "for i in range(10):\n",
        "    create_file_of_size(f\"random_file_{i+1}.txt\", 5)"
      ],
      "metadata": {
        "id": "4pbY-qKhPx0p"
      },
      "execution_count": null,
      "outputs": []
    },
    {
      "cell_type": "code",
      "source": [
        "# Ques 4\n",
        "for i in range(1, 6):\n",
        "    create_file_of_size(f\"large_file_{i}GB.txt\", i * 1024)  # size in MB"
      ],
      "metadata": {
        "id": "uagYS3Z7Qlav"
      },
      "execution_count": null,
      "outputs": []
    }
  ]
}